{
 "cells": [
  {
   "cell_type": "markdown",
   "metadata": {},
   "source": [
    "# Dense Flow"
   ]
  },
  {
   "cell_type": "code",
   "execution_count": 1,
   "metadata": {},
   "outputs": [],
   "source": [
    "import cv2\n",
    "import numpy as np"
   ]
  },
  {
   "cell_type": "code",
   "execution_count": null,
   "metadata": {},
   "outputs": [],
   "source": [
    "cap = cv2.VideoCapture(0)\n",
    "\n",
    "\n",
    "# READ FRAME 1\n",
    "ret, frame1 = cap.read()\n",
    "\n",
    "\n",
    "# COLOR FOR FRAME 1\n",
    "prvsImg = cv2.cvtColor(frame1, cv2.COLOR_BGR2GRAY)\n",
    "\n",
    "# hsv_mask\n",
    "# .zeros_like(): \n",
    "# - Return an array of zeros with the same shape and type\n",
    "# as a given array.\n",
    "\n",
    "hsv_mask = np.zeros_like(frame1)\n",
    "hsv_mask[:,:,1] = 255\n",
    "\n",
    "while True:\n",
    "    \n",
    "    # return frame2\n",
    "    ret, frame2 = cap.read()\n",
    "    # color to gray\n",
    "    nextImg = cv2.cvtColor(frame2, cv2.COLOR_BGR2GRAY)\n",
    "    # Default parameters: avg window size, iterations, etc.\n",
    "    flow = cv2.calcOpticalFlowFarneback(prvsImg, nextImg, None, 0.5, 3, 15, 3, 5,1.2, 0)\n",
    "    \n",
    "    # CONVERT OUR DENSE OPTICAL FLOW (Cartesian coord.) \n",
    "    # INTO POLAR COORDINATES:\n",
    "    mag, ang = cv2.cartToPolar(flow[:,:,0], # FOR EVERY PIXEL IN X AND Y, GRAB HORIZONTAL INFORMATION\n",
    "                               flow[:,:,1], # # FOR EVERY PIXEL IN X AND Y, GRAB VERTICAL INFORMATION\n",
    "                              angleInDegrees=True)\n",
    "    \n",
    "    # GRAB HSV MASK:\n",
    "    hsv_mask[:,:,0] = ang/2 # FOR ALL PIXELS, GRAB HUE BASED OFF ANGLE/2.\n",
    "    # CHANNEL 2\n",
    "    hsv_mask[:,:,2] = cv2.normalize(mag, None, 0, 255, cv2.NORM_MINMAX)\n",
    "    \n",
    "    bgr = cv2.cvtColor(hsv_mask, cv2.COLOR_HSV2BGR)\n",
    "    \n",
    "    k = cv2.waitKey(10) & 0xFF\n",
    "    if k == 27:\n",
    "        break\n",
    "    \n",
    "    prvsImg = nextImg\n",
    "    \n",
    "cap.release()\n",
    "cv2.destroyAllWindows()\n",
    "    "
   ]
  },
  {
   "cell_type": "code",
   "execution_count": null,
   "metadata": {},
   "outputs": [],
   "source": [
    "# SUMMARY:\n",
    " # Capturing video\n",
    "    # convert to grayscale\n",
    "    # Create hsv mask: created to color based off direction\n",
    "    # Grab flow object and convert to polar coord.\n",
    "    # \n"
   ]
  },
  {
   "cell_type": "code",
   "execution_count": null,
   "metadata": {},
   "outputs": [],
   "source": []
  },
  {
   "cell_type": "code",
   "execution_count": null,
   "metadata": {},
   "outputs": [],
   "source": []
  },
  {
   "cell_type": "code",
   "execution_count": null,
   "metadata": {},
   "outputs": [],
   "source": []
  },
  {
   "cell_type": "code",
   "execution_count": null,
   "metadata": {},
   "outputs": [],
   "source": []
  },
  {
   "cell_type": "code",
   "execution_count": null,
   "metadata": {},
   "outputs": [],
   "source": []
  }
 ],
 "metadata": {
  "kernelspec": {
   "display_name": "Python 3",
   "language": "python",
   "name": "python3"
  },
  "language_info": {
   "codemirror_mode": {
    "name": "ipython",
    "version": 3
   },
   "file_extension": ".py",
   "mimetype": "text/x-python",
   "name": "python",
   "nbconvert_exporter": "python",
   "pygments_lexer": "ipython3",
   "version": "3.7.3"
  }
 },
 "nbformat": 4,
 "nbformat_minor": 2
}
